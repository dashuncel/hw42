{
 "cells": [
  {
   "cell_type": "code",
   "execution_count": 6,
   "metadata": {},
   "outputs": [],
   "source": [
    "import pandas as pd\n",
    "import matplotlib\n",
    "import os\n",
    "\n",
    "DATA_DIR = f'{os.getcwd()}/names/'"
   ]
  },
  {
   "cell_type": "markdown",
   "metadata": {},
   "source": [
    "Данные для пунктов 1, 2. На вход - список имен, шаг лет.\n",
    "1. количество имен Ruth и Robert с 1900 по 2000\n",
    "2. количество имен с 1900 по 2000 с 5-летними промежутками (1900, 1905, 1910, …, 1995, 2000)"
   ]
  },
  {
   "cell_type": "code",
   "execution_count": 7,
   "metadata": {},
   "outputs": [],
   "source": [
    "def name_dynamic(names, step):\n",
    "    file_list = [{'file': f'{DATA_DIR}yob{str(year)}.txt', 'year': year} for year in range(1900, 2001, step)]\n",
    "    list_ = []\n",
    "    for file in file_list:\n",
    "        if not os.path.exists(file['file']):\n",
    "            continue\n",
    "        data = pd.read_csv(file['file'], names=['Name', 'Gender', 'Count'])\n",
    "        data = data[data['Name'].isin(names)]\n",
    "        data['Year'] = file['year']\n",
    "        list_.append(data)\n",
    "    all_stat = pd.concat(list_).sort_values(by='Year', ascending=True)\n",
    "    return all_stat"
   ]
  },
  {
   "cell_type": "markdown",
   "metadata": {},
   "source": [
    "Данные для пункта 3: \n",
    "3. количество употреблений для ТОП-10 популярных имен, начинающихся на R, за 1950 год"
   ]
  },
  {
   "cell_type": "code",
   "execution_count": null,
   "metadata": {},
   "outputs": [],
   "source": [
    "\n",
    "def top_letter(letter, year):\n",
    "    file = f'{DATA_DIR}yob{year}.txt'\n",
    "    if not os.path.exists(file):\n",
    "        return\n",
    "    data = pd.read_csv(file, names=['Name', 'Gender', 'Count'])\n",
    "    data = data[data.Name.str.startswith(letter)].sort_values(by='Count', ascending=False).head(10)\n",
    "    return data"
   ]
  },
  {
   "cell_type": "markdown",
   "metadata": {},
   "source": [
    "Данные для пункта 4: \n",
    "4. Возвращает датасет имя, количество, количество согласных в имени"
   ]
  },
  {
   "cell_type": "code",
   "execution_count": null,
   "metadata": {},
   "outputs": [],
   "source": [
    "def is_consonant(sum, letter):\n",
    "    cont = ['b', 'c', 'd', 'f', 'g', 'h', 'j', 'k', 'l', 'm', 'n', 'p', 'q', 'r', 's', 't', 'v', 'w', 'x', 'y', 'z']\n",
    "    if letter.lower() in cont:\n",
    "        sum = sum + 1\n",
    "    return sum\n",
    "\n",
    "\n",
    "def count_consonant(word):\n",
    "    count = functools.reduce(is_consonant, word, 0)\n",
    "    return count\n",
    "\n",
    "\n",
    "def stat_consonant(step):\n",
    "    file_list = [{'file': f'{DATA_DIR}yob{str(year)}.txt', 'year': year} for year in range(1900, 2001, step)]\n",
    "    list_ = []\n",
    "    for file in file_list:\n",
    "        if not os.path.exists(file['file']):\n",
    "            continue\n",
    "        data = pd.read_csv(file['file'], names=['Name', 'Gender', 'Count'])\n",
    "        data['Const'] = data.apply(lambda row: count_consonant(row.Name), axis=1)\n",
    "        list_.append(data)\n",
    "    all_stat = pd.concat(list_).groupby(['Name']).sum().reset_index()\n",
    "    return all_stat\n"
   ]
  },
  {
   "cell_type": "markdown",
   "metadata": {},
   "source": [
    "Собственно, сами графики:"
   ]
  }
 ],
 "metadata": {
  "kernelspec": {
   "display_name": "Python 3",
   "language": "python",
   "name": "python3"
  },
  "language_info": {
   "codemirror_mode": {
    "name": "ipython",
    "version": 3
   },
   "file_extension": ".py",
   "mimetype": "text/x-python",
   "name": "python",
   "nbconvert_exporter": "python",
   "pygments_lexer": "ipython3",
   "version": "3.6.5"
  }
 },
 "nbformat": 4,
 "nbformat_minor": 2
}
